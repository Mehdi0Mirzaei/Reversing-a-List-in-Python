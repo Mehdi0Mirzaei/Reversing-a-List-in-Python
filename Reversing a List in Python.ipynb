{
 "cells": [
  {
   "cell_type": "code",
   "execution_count": 17,
   "id": "c90a717d",
   "metadata": {},
   "outputs": [],
   "source": [
    "def reverse_list(lst):\n",
    "    return lst[::-1]"
   ]
  },
  {
   "cell_type": "code",
   "execution_count": 18,
   "id": "693d1f10",
   "metadata": {},
   "outputs": [],
   "source": [
    "lst1=[1,2,3,4,5,6,7]"
   ]
  },
  {
   "cell_type": "code",
   "execution_count": 19,
   "id": "0eb27ad7",
   "metadata": {},
   "outputs": [
    {
     "data": {
      "text/plain": [
       "[7, 6, 5, 4, 3, 2, 1]"
      ]
     },
     "execution_count": 19,
     "metadata": {},
     "output_type": "execute_result"
    }
   ],
   "source": [
    "reverse_list(lst1)"
   ]
  },
  {
   "cell_type": "code",
   "execution_count": 20,
   "id": "7fb997fe",
   "metadata": {},
   "outputs": [
    {
     "name": "stdout",
     "output_type": "stream",
     "text": [
      "Original list:  [1, 2, 3, 4, 5]\n",
      "Reversed list:  [5, 4, 3, 2, 1]\n"
     ]
    }
   ],
   "source": [
    "def list_reverse(arr,size):\n",
    "\n",
    "    if(size==1):\n",
    "        return arr\n",
    "     \n",
    "    elif(size==2):\n",
    "        arr[0],arr[1],=arr[1],arr[0]\n",
    "        return arr\n",
    "     \n",
    "    else:\n",
    "        i=0\n",
    "        while(i<size//2):\n",
    "\n",
    "            arr[i],arr[size-i-1]=arr[size-i-1],arr[i]\n",
    "\n",
    "            if((i!=i+1 and size-i-1 != size-i-2) and (i!=size-i-2 and size-i-1!=i+1)):\n",
    "                arr[i+1],arr[size-i-2]=arr[size-i-2],arr[i+1]\n",
    "            i+=2\n",
    "        return arr\n",
    "arr=[1,2,3,4,5]\n",
    "size=5\n",
    "print('Original list: ',arr)\n",
    "print(\"Reversed list: \",list_reverse(arr,size))"
   ]
  },
  {
   "cell_type": "code",
   "execution_count": 21,
   "id": "cdb35ab4",
   "metadata": {},
   "outputs": [
    {
     "name": "stdout",
     "output_type": "stream",
     "text": [
      "Using reverse()  [20, 19, 18, 17, 16, 15, 14, 13, 12, 11, 10]\n",
      "Using reversed()  [10, 11, 12, 13, 14, 15, 16, 17, 18, 19, 20]\n"
     ]
    }
   ],
   "source": [
    "lst = [10, 11, 12, 13, 14, 15,16,17,18,19,20]\n",
    "lst.reverse()\n",
    "print(\"Using reverse() \", lst)\n",
    " \n",
    "print(\"Using reversed() \", list(reversed(lst)))"
   ]
  },
  {
   "cell_type": "code",
   "execution_count": 22,
   "id": "8e474277",
   "metadata": {},
   "outputs": [],
   "source": [
    "def reverse_list(arr):\n",
    "    left = 0\n",
    "    right = len(arr)-1\n",
    "    while (left < right):\n",
    "        # Swap\n",
    "        temp = arr[left]\n",
    "        arr[left] = arr[right]\n",
    "        arr[right] = temp\n",
    "        left += 1\n",
    "        right -= 1\n",
    "    return arr"
   ]
  },
  {
   "cell_type": "code",
   "execution_count": 24,
   "id": "550dfe06",
   "metadata": {},
   "outputs": [
    {
     "data": {
      "text/plain": [
       "[6, 5, 4, 3, 2, 1]"
      ]
     },
     "execution_count": 24,
     "metadata": {},
     "output_type": "execute_result"
    }
   ],
   "source": [
    "reverse_list([1,2,3,4,5,6])"
   ]
  },
  {
   "cell_type": "code",
   "execution_count": 25,
   "id": "ad3d1b9c",
   "metadata": {},
   "outputs": [
    {
     "name": "stdout",
     "output_type": "stream",
     "text": [
      "[15, 14, 13, 12, 11, 10]\n"
     ]
    }
   ],
   "source": [
    "lst = [10, 11, 12, 13, 14, 15]\n",
    "# the above input can also be given as\n",
    "# lst=list(map(int,input().split()))\n",
    "l = []  # empty list\n",
    " \n",
    "# iterate to reverse the list\n",
    "for i in lst:\n",
    "    # reversing the list\n",
    "    l.insert(0, i)\n",
    "# printing result\n",
    "print(l)"
   ]
  },
  {
   "cell_type": "code",
   "execution_count": 27,
   "id": "07ce7125",
   "metadata": {},
   "outputs": [
    {
     "name": "stdout",
     "output_type": "stream",
     "text": [
      "[20, 19, 18, 17, 16, 15, 14, 13, 12, 11, 10]\n"
     ]
    }
   ],
   "source": [
    "original_list = [10, 11, 12, 13, 14, 15,16,17,18,19,20]\n",
    "new_list = [original_list[len(original_list) - i]\n",
    "            for i in range(1, len(original_list)+1)]\n",
    "print(new_list)"
   ]
  },
  {
   "cell_type": "code",
   "execution_count": 28,
   "id": "51876d5b",
   "metadata": {},
   "outputs": [
    {
     "name": "stdout",
     "output_type": "stream",
     "text": [
      "[9, 8, 7, 6, 5, 4]\n"
     ]
    }
   ],
   "source": [
    "import numpy as np\n",
    " \n",
    "# Input list\n",
    "my_list = [4, 5, 6, 7, 8, 9]\n",
    " \n",
    "# Convert the list to a 1D numpy array\n",
    "my_array = np.array(my_list)\n",
    " \n",
    "# Reverse the order of the array\n",
    "reversed_array = my_array[::-1]\n",
    " \n",
    "# Convert the reversed array to a list\n",
    "reversed_list = reversed_array.tolist()\n",
    " \n",
    "# Print the reversed list\n",
    "print(reversed_list)"
   ]
  },
  {
   "cell_type": "code",
   "execution_count": null,
   "id": "7ae61292",
   "metadata": {},
   "outputs": [],
   "source": []
  }
 ],
 "metadata": {
  "kernelspec": {
   "display_name": "Python 3 (ipykernel)",
   "language": "python",
   "name": "python3"
  },
  "language_info": {
   "codemirror_mode": {
    "name": "ipython",
    "version": 3
   },
   "file_extension": ".py",
   "mimetype": "text/x-python",
   "name": "python",
   "nbconvert_exporter": "python",
   "pygments_lexer": "ipython3",
   "version": "3.9.17"
  }
 },
 "nbformat": 4,
 "nbformat_minor": 5
}
